{
 "cells": [
  {
   "cell_type": "code",
   "execution_count": 1,
   "id": "fc4e8f8b",
   "metadata": {},
   "outputs": [
    {
     "name": "stdout",
     "output_type": "stream",
     "text": [
      "Circle Area: 78.5\n",
      "Rectangle Area: 24\n",
      "Triangle Area: 6.0\n"
     ]
    }
   ],
   "source": [
    "#solved practice questions 9-10\n",
    "#question 9\n",
    "#FA24-BBD-005\n",
    "class Shape:\n",
    "#the shape class is a parent class\n",
    "    def area(self):\n",
    "        pass  # Base method to be overridden\n",
    "\n",
    "class Circle(Shape):\n",
    "#the circle class inherits all the properties from shape class\n",
    "    def __init__(self, radius):\n",
    "        self.radius = radius\n",
    "    \n",
    "    def area(self):\n",
    "        return 3.14 * self.radius * self.radius\n",
    "\n",
    "class Rectangle(Shape):\n",
    "    def __init__(self, length, width):\n",
    "        self.length = length\n",
    "        self.width = width\n",
    "    \n",
    "    def area(self):\n",
    "        return self.length * self.width\n",
    "\n",
    "class Triangle(Shape):\n",
    "    def __init__(self, base, height):\n",
    "        self.base = base\n",
    "        self.height = height\n",
    "    \n",
    "    def area(self):\n",
    "    #o.5 is equal to 1/2 , to calculate the triangle formula\n",
    "        return 0.5 * self.base * self.height\n",
    "\n",
    "# Example\n",
    "circle = Circle(5)\n",
    "print(\"Circle Area:\", circle.area())\n",
    "\n",
    "rectangle = Rectangle(4, 6)\n",
    "print(\"Rectangle Area:\", rectangle.area())\n",
    "\n",
    "triangle = Triangle(3, 4)\n",
    "print(\"Triangle Area:\", triangle.area())\n"
   ]
  },
  {
   "cell_type": "code",
   "execution_count": 2,
   "id": "66beb303",
   "metadata": {},
   "outputs": [
    {
     "name": "stdout",
     "output_type": "stream",
     "text": [
      "dogesh makes a 'bark' sound.\n",
      "kitty makes a 'meow' sound.\n",
      "Bhens makes a 'moo' sound.\n"
     ]
    }
   ],
   "source": [
    "#10\n",
    "class Animal:\n",
    "#the animal class is base for all animals\n",
    "    def __init__(self, name, sound):\n",
    "#name, store the name of the class\n",
    "#sound, stores the specific sound of class\n",
    "        self.name = name\n",
    "        self.sound = sound\n",
    "    \n",
    "    def make_sound(self):\n",
    "    #returns a formated string showing animals's name and sound\n",
    "        return f\"{self.name} makes a '{self.sound}' sound.\"\n",
    "\n",
    "class Dog(Animal):\n",
    "    def __init__(self, name):\n",
    "        super().__init__(name, \"bark\")\n",
    "\n",
    "class Cat(Animal):\n",
    "    def __init__(self, name):\n",
    "        super().__init__(name, \"meow\")\n",
    "\n",
    "class Cow(Animal):\n",
    "    def __init__(self, name):\n",
    "        super().__init__(name, \"moo\")\n",
    "\n",
    "# Example\n",
    "dog = Dog(\"dogesh\")\n",
    "print(dog.make_sound())\n",
    "\n",
    "cat = Cat(\"kitty\")\n",
    "print(cat.make_sound())\n",
    "\n",
    "cow = Cow(\"Bhens\")\n",
    "print(cow.make_sound())\n"
   ]
  },
  {
   "cell_type": "code",
   "execution_count": null,
   "id": "6da0c2ca",
   "metadata": {},
   "outputs": [],
   "source": []
  }
 ],
 "metadata": {
  "kernelspec": {
   "display_name": "Python 3 (ipykernel)",
   "language": "python",
   "name": "python3"
  },
  "language_info": {
   "codemirror_mode": {
    "name": "ipython",
    "version": 3
   },
   "file_extension": ".py",
   "mimetype": "text/x-python",
   "name": "python",
   "nbconvert_exporter": "python",
   "pygments_lexer": "ipython3",
   "version": "3.11.5"
  }
 },
 "nbformat": 4,
 "nbformat_minor": 5
}
